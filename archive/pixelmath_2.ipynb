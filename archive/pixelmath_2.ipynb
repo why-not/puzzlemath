{
 "cells": [
  {
   "cell_type": "code",
   "execution_count": 7,
   "metadata": {},
   "outputs": [],
   "source": [
    "import cv2\n",
    "import numpy as np\n",
    "from pathlib import Path\n",
    "from scipy import stats\n",
    "\n",
    "def read_image(input_path: Path) -> np.ndarray:\n",
    "    \"\"\"\n",
    "    Read the image from the given path using OpenCV.\n",
    "    \"\"\"\n",
    "    img = cv2.imread(str(input_path))\n",
    "    return img\n",
    "\n",
    "def save_image(output_path: Path, img: np.ndarray) -> None:\n",
    "    \"\"\"\n",
    "    Save the processed image to the given path using OpenCV.\n",
    "    \"\"\"\n",
    "    cv2.imwrite(str(output_path), img)\n",
    "\n",
    "def calculate_most_common_color(square: np.ndarray) -> np.ndarray:\n",
    "    \"\"\"\n",
    "    Calculate the most common color of the given square.\n",
    "    \"\"\"\n",
    "    reshaped_square = square.reshape(-1, square.shape[-1])\n",
    "    mode_color = stats.mode(reshaped_square, axis=0)[0]\n",
    "    return mode_color\n",
    "\n",
    "def process_image(image: np.ndarray, square_size: int) -> np.ndarray:\n",
    "    \"\"\"\n",
    "    Process the image by replacing each square with its most common color.\n",
    "    \"\"\"\n",
    "    output_image = np.zeros_like(image)\n",
    "    height, width, _ = image.shape\n",
    "\n",
    "    for i in range(0, height, square_size):\n",
    "        for j in range(0, width, square_size):\n",
    "            square = image[i:i+square_size, j:j+square_size]\n",
    "            most_common_color = calculate_most_common_color(square)\n",
    "            output_image[i:i+square_size, j:j+square_size] = most_common_color\n",
    "\n",
    "    return output_image\n",
    "\n",
    "def main():\n",
    "    base_folder = Path(\"/Users/senthilgandhi/Dropbox/parent/workspace/pixel_puzzle_math\")\n",
    "    input_path = base_folder / \"gyar.png\"\n",
    "    output_path = base_folder / \"output_image.png\"\n",
    "    square_size = 8\n",
    "\n",
    "    input_image = read_image(input_path)\n",
    "    processed_image = process_image(input_image, square_size)\n",
    "    save_image(output_path, processed_image)\n",
    "\n",
    "if __name__ == \"__main__\":\n",
    "    main()\n"
   ]
  },
  {
   "cell_type": "code",
   "execution_count": null,
   "metadata": {},
   "outputs": [],
   "source": []
  }
 ],
 "metadata": {
  "kernelspec": {
   "display_name": "base",
   "language": "python",
   "name": "python3"
  },
  "language_info": {
   "codemirror_mode": {
    "name": "ipython",
    "version": 3
   },
   "file_extension": ".py",
   "mimetype": "text/x-python",
   "name": "python",
   "nbconvert_exporter": "python",
   "pygments_lexer": "ipython3",
   "version": "3.9.12"
  },
  "orig_nbformat": 4
 },
 "nbformat": 4,
 "nbformat_minor": 2
}
